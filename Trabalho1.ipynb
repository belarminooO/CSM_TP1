{
 "cells": [
  {
   "cell_type": "markdown",
   "id": "a6ca5afc-8398-4f7f-a069-2c613d6cd1e3",
   "metadata": {},
   "source": [
    "# ISEL - CSM \n",
    "## Semestre de Verão 2024/25\n",
    "# <br>\n",
    "###  <center> Trabalho Prático 1 - Codificação de Sinais Multimédia</center>\n",
    "# </br>\n",
    "\n",
    "\n",
    "Trabalho realizado por:\n",
    "* Guilherme Graça, numero <b> 51827 </b>\n",
    "* Martim Ramos, numero <b> 51736 </b>\n",
    "* Belarmino Sacate, numero <b> 52057 </b>\n",
    "\n",
    "<br> <center> Turma 42D </center> </br>\n",
    "<br> <center> Docente: Gonçalo Valadão </center> </br>"
   ]
  },
  {
   "cell_type": "code",
   "execution_count": 2,
   "id": "0adb0316-2285-4ec2-905a-9a9917e1ac40",
   "metadata": {},
   "outputs": [],
   "source": [
    "import cv2\n",
    "import numpy as np\n",
    "import matplotlib.pyplot as plt"
   ]
  },
  {
   "cell_type": "markdown",
   "id": "f0407d13-195d-422a-8f1e-f75b4f49396f",
   "metadata": {},
   "source": [
    "# Exercício 1"
   ]
  },
  {
   "cell_type": "code",
   "execution_count": 51,
   "id": "b8b68cea-254e-401e-8ced-a79a81cb1d1f",
   "metadata": {},
   "outputs": [
    {
     "name": "stdout",
     "output_type": "stream",
     "text": [
      "uint8\n",
      "(512, 512, 3)\n"
     ]
    }
   ],
   "source": [
    "x_img = cv2.imread(\"lena.tif\")\n",
    "cv2.imshow(\"OriginalImage\", x_img)\n",
    "\n",
    "print(x_img.dtype)\n",
    "print(x_img.shape)\n",
    "type(x_img)\n",
    "\n",
    "cv2.waitKey(0)\n",
    "cv2.destroyAllWindows()"
   ]
  },
  {
   "cell_type": "markdown",
   "id": "e2012d59-d102-4bc4-af61-61c2d01e0621",
   "metadata": {},
   "source": [
    "# Exercício 2 "
   ]
  },
  {
   "cell_type": "code",
   "execution_count": 6,
   "id": "87c3ce03-30be-4dff-867e-64848bfbaa29",
   "metadata": {},
   "outputs": [
    {
     "name": "stdout",
     "output_type": "stream",
     "text": [
      "(512, 512, 3)\n",
      "(512, 512, 3)\n"
     ]
    }
   ],
   "source": [
    "cv2.imwrite(\"imagem_convertida_1.jpg\",x_img,(cv2.IMWRITE_JPEG_QUALITY, 80))\n",
    "y_img_1 = cv2.imread(\"imagem_convertida_1.jpg\")\n",
    "cv2.imshow(\"imagem_convertida_1.jpg\", y_img_1)\n",
    "print(y_img_1.shape)\n",
    "\n",
    "y_img_2 = cv2.imwrite(\"imagem_convertida_2.jpg\",x_img,(cv2.IMWRITE_JPEG_QUALITY, 10))\n",
    "y_img_2 = cv2.imread(\"imagem_convertida_2.jpg\")\n",
    "cv2.imshow(\"imagem_convertida_2.jpg\", y_img_2)\n",
    "print(y_img_2.shape)\n",
    "\n",
    "cv2.waitKey(0)\n",
    "cv2.destroyAllWindows()"
   ]
  },
  {
   "cell_type": "code",
   "execution_count": 36,
   "id": "aba5cd48-c955-4c93-9cdb-d360b759aa24",
   "metadata": {},
   "outputs": [
    {
     "name": "stdout",
     "output_type": "stream",
     "text": [
      "Tamanho da imagem original:  786572\n",
      "Tamanho da imagem comprimida (jpeg):  44124\n",
      "Tamanho da imagem comprimida (jpeg):  9566\n"
     ]
    }
   ],
   "source": [
    "#tamanhos das iamgens obtidas anteriormente\n",
    "\n",
    "import os\n",
    "\n",
    "imagem_original = \"lena.tif\"\n",
    "tamanho_imagem_original = os.path.getsize(imagem_original)\n",
    "print(\"Tamanho da imagem original: \", tamanho_imagem_original)\n",
    "\n",
    "imagem_jpeg_1 = \"imagem_convertida_1.jpg\"\n",
    "tamanho_imagem_comprimida_1 = os.path.getsize(imagem_jpeg_1)\n",
    "print(\"Tamanho da imagem comprimida (jpeg): \", tamanho_imagem_comprimida_1)\n",
    "\n",
    "imagem_jpeg_2 = \"imagem_convertida_2.jpg\"\n",
    "tamanho_imagem_comprimida_2 = os.path.getsize(imagem_jpeg_2)\n",
    "print(\"Tamanho da imagem comprimida (jpeg): \", tamanho_iamgem_comprimido_2)"
   ]
  },
  {
   "cell_type": "code",
   "execution_count": 42,
   "id": "a633cb2b-4e50-46a6-bb06-5f6979f6b5ac",
   "metadata": {},
   "outputs": [
    {
     "name": "stdout",
     "output_type": "stream",
     "text": [
      "Taxa de Compressão:  17.82639833197353\n"
     ]
    }
   ],
   "source": [
    "#Taxa de Compressão\n",
    "def taxa_comp(tamanho_original, tamanho_comprimido):\n",
    "    tamanho_compressão = tamanho_original/tamanho_comprimido\n",
    "    print('Taxa de Compressão: ', tamanho_compressão)\n",
    "\n",
    "taxa_comp(tamanho_imagem_original, tamanho_imagem_comprimida_1)"
   ]
  },
  {
   "cell_type": "code",
   "execution_count": 58,
   "id": "de3a5746-a87b-4cc7-b6d9-046bf17ed16e",
   "metadata": {},
   "outputs": [
    {
     "name": "stdout",
     "output_type": "stream",
     "text": [
      "SNR calculada:  6.692607501972604\n",
      "SNR calculada:  2.934790776844785\n"
     ]
    }
   ],
   "source": [
    "#SNR\n",
    "def snr(imagem1, imagem2):\n",
    "    pot_sinal = np.mean(imagem1 ** 2)\n",
    "    pot_ruido = np.mean((imagem1 - imagem2) ** 2)\n",
    "    snr = 10 * np.log10(pot_sinal/pot_ruido)\n",
    "    print('SNR calculada: ', snr)\n",
    "\n",
    "snr(x_img, y_img_1)\n",
    "snr(x_img, y_img_2)"
   ]
  },
  {
   "cell_type": "code",
   "execution_count": 64,
   "id": "c1d5abfd-9dca-4376-964f-7f1474f08f7e",
   "metadata": {},
   "outputs": [
    {
     "name": "stdout",
     "output_type": "stream",
     "text": [
      "PSNR calculada:  10.457434960458889\n",
      "PSNR calculada:  6.6996182353310685\n"
     ]
    }
   ],
   "source": [
    "#PSNR\n",
    "\n",
    "def PSNR(imagem1, imagem2):\n",
    "    mse = np.mean((imagem1 - imagem2) **2)\n",
    "    max_pixels = 255.0\n",
    "    psnr = 10 * np.log10(max_pixels / mse)\n",
    "    print('PSNR calculada: ', psnr)\n",
    "\n",
    "PSNR(x_img, y_img_1)\n",
    "PSNR(x_img, y_img_2)"
   ]
  },
  {
   "cell_type": "markdown",
   "id": "0b0b3b81-bafb-4163-853f-c312820c5f41",
   "metadata": {},
   "source": [
    "# Exercício 3"
   ]
  },
  {
   "cell_type": "code",
   "execution_count": 14,
   "id": "68228895-a843-4624-bd32-66efca80c734",
   "metadata": {},
   "outputs": [
    {
     "name": "stdout",
     "output_type": "stream",
     "text": [
      "(512, 512)\n"
     ]
    }
   ],
   "source": [
    "x_img_g = cv2.cvtColor(x_img,cv2.COLOR_BGR2GRAY) \n",
    "cv2.imshow(\"GrayImage\",x_img_g) \n",
    "cv2.imwrite(\"file3.bmp\",x_img_g)\n",
    "print(x_img_g.shape)\n",
    "\n",
    "cv2.waitKey(0)\n",
    "cv2.destroyAllWindows()"
   ]
  },
  {
   "cell_type": "code",
   "execution_count": 50,
   "id": "d808cbb2-18f4-42c2-9397-6e5f1307cf35",
   "metadata": {},
   "outputs": [
    {
     "data": {
      "text/plain": [
       "numpy.ndarray"
      ]
     },
     "execution_count": 50,
     "metadata": {},
     "output_type": "execute_result"
    }
   ],
   "source": []
  },
  {
   "cell_type": "code",
   "execution_count": null,
   "id": "e48f5aa2-a147-4610-a8a3-d0aa477fadbd",
   "metadata": {},
   "outputs": [],
   "source": []
  }
 ],
 "metadata": {
  "kernelspec": {
   "display_name": "Python 3 (ipykernel)",
   "language": "python",
   "name": "python3"
  },
  "language_info": {
   "codemirror_mode": {
    "name": "ipython",
    "version": 3
   },
   "file_extension": ".py",
   "mimetype": "text/x-python",
   "name": "python",
   "nbconvert_exporter": "python",
   "pygments_lexer": "ipython3",
   "version": "3.12.0"
  }
 },
 "nbformat": 4,
 "nbformat_minor": 5
}
