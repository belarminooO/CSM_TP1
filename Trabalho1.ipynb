{
 "cells": [
  {
   "cell_type": "markdown",
   "id": "a6ca5afc-8398-4f7f-a069-2c613d6cd1e3",
   "metadata": {},
   "source": [
    "# ISEL - CSM \n",
    "## Semestre de Verão 2024/25\n",
    "# <br>\n",
    "###  <center> Trabalho Prático 1 - Codificação de Sinais Multimédia</center>\n",
    "# </br>\n",
    "\n",
    "\n",
    "Trabalho realizado por:\n",
    "* Guilherme Graça, numero <b> 51827 </b>\n",
    "* Martim Ramos, numero <b> 51736 </b>\n",
    "* Belarmino Sacate, numero <b> 52057 </b>\n",
    "\n",
    "<br> <center> Turma 42D </center> </br>\n",
    "<br> <center> Docente: Gonçalo Valadão </center> </br>"
   ]
  },
  {
   "cell_type": "code",
   "execution_count": 1,
   "id": "0adb0316-2285-4ec2-905a-9a9917e1ac40",
   "metadata": {},
   "outputs": [],
   "source": [
    "import cv2\n",
    "import numpy as np\n",
    "import matplotlib.pyplot as plt"
   ]
  },
  {
   "cell_type": "markdown",
   "id": "f0407d13-195d-422a-8f1e-f75b4f49396f",
   "metadata": {},
   "source": [
    "# Exercício 1"
   ]
  },
  {
   "cell_type": "code",
   "execution_count": 5,
   "id": "b8b68cea-254e-401e-8ced-a79a81cb1d1f",
   "metadata": {},
   "outputs": [
    {
     "name": "stdout",
     "output_type": "stream",
     "text": [
      "uint8\n",
      "(512, 512, 3)\n"
     ]
    }
   ],
   "source": [
    "x_img = cv2.imread(\"lena.tif\")\n",
    "cv2.imshow(\"OriginalImage\", x_img)\n",
    "\n",
    "\n",
    "print(x_img.dtype)\n",
    "#dtype mostra o tipo de dados dos pixes da img\n",
    "#OUTPUT: uint8\n",
    "#uint8 (unsigned 8 bit integer) é o padrão de imagens do opencv, ou seja pixeis de 8bits\n",
    "#logo cada bit, tem valores entre 0 e 255 porque 2**8 = 256\n",
    "\n",
    "print(x_img.shape)\n",
    "#shape retorna um tuplo com 3 elementos, (altura,largura,nr de canais de cor)\n",
    "#OUTPUT: (512, 512, 3)\n",
    "#Neste caso é uma imagem com 512 pixeis de altura, 512 pixeis de largura e 3 canais de cor\n",
    "#Que correspondem às cores RGB - Red, Green, Blue\n",
    "\n",
    "type(x_img)\n",
    "\n",
    "cv2.waitKey(0)\n",
    "cv2.destroyAllWindows()"
   ]
  },
  {
   "cell_type": "markdown",
   "id": "e2012d59-d102-4bc4-af61-61c2d01e0621",
   "metadata": {},
   "source": [
    "# Exercício 2 "
   ]
  },
  {
   "cell_type": "code",
   "execution_count": 14,
   "id": "87c3ce03-30be-4dff-867e-64848bfbaa29",
   "metadata": {},
   "outputs": [],
   "source": [
    "#Cria e mostra as imagens convertidas para jpg\n",
    "\n",
    "#Nivel de compressão 80 - menos comprimida\n",
    "cv2.imwrite(\"imagem_convertida_1.jpg\",x_img,(cv2.IMWRITE_JPEG_QUALITY, 80))\n",
    "y_img_1 = cv2.imread(\"imagem_convertida_1.jpg\")\n",
    "cv2.imshow(\"imagem_convertida_1.jpg\", y_img_1)\n",
    "\n",
    "#print(y_img_1.nbytes)\n",
    "#Não é possivel observar o tamanho real da img com a função do opencv pois o imread() descomprime a img \n",
    "\n",
    "#Nivel de compressão 10 - mais comprimida\n",
    "y_img_2 = cv2.imwrite(\"imagem_convertida_2.jpg\",x_img,(cv2.IMWRITE_JPEG_QUALITY, 10))\n",
    "y_img_2 = cv2.imread(\"imagem_convertida_2.jpg\")\n",
    "cv2.imshow(\"imagem_convertida_2.jpg\", y_img_2)\n",
    "\n",
    "cv2.waitKey(0)\n",
    "cv2.destroyAllWindows()"
   ]
  },
  {
   "cell_type": "code",
   "execution_count": 16,
   "id": "aba5cd48-c955-4c93-9cdb-d360b759aa24",
   "metadata": {},
   "outputs": [
    {
     "name": "stdout",
     "output_type": "stream",
     "text": [
      "Tamanho da imagem original:  786572\n",
      "Tamanho da imagem comprimida - nivel de compressão 80 (jpeg):  44124\n",
      "Tamanho da imagem comprimida - nivel de compressão 10 (jpeg):  9566\n"
     ]
    }
   ],
   "source": [
    "#tamanhos das iamgens obtidas anteriormente\n",
    "#É necessário importar o os para acessar o espaço real que as imgs ocupam no disco\n",
    "import os\n",
    "\n",
    "imagem_original = \"lena.tif\"\n",
    "tamanho_imagem_original = os.path.getsize(imagem_original)\n",
    "print(\"Tamanho da imagem original: \", tamanho_imagem_original)\n",
    "\n",
    "imagem_jpeg_1 = \"imagem_convertida_1.jpg\"\n",
    "tamanho_imagem_comprimida_1 = os.path.getsize(imagem_jpeg_1)\n",
    "print(\"Tamanho da imagem comprimida - nivel de compressão 80 (jpeg): \", tamanho_imagem_comprimida_1)\n",
    "\n",
    "imagem_jpeg_2 = \"imagem_convertida_2.jpg\"\n",
    "tamanho_imagem_comprimida_2 = os.path.getsize(imagem_jpeg_2)\n",
    "print(\"Tamanho da imagem comprimida - nivel de compressão 10 (jpeg): \", tamanho_imagem_comprimida_2)\n",
    "#Observa-se que quanto mais comprimida estiver a imgs, menos espaço esta ocupa no disco"
   ]
  },
  {
   "cell_type": "code",
   "execution_count": 17,
   "id": "a633cb2b-4e50-46a6-bb06-5f6979f6b5ac",
   "metadata": {},
   "outputs": [
    {
     "name": "stdout",
     "output_type": "stream",
     "text": [
      "Taxa de Compressão:  17.82639833197353\n"
     ]
    }
   ],
   "source": [
    "#Taxa de Compressão\n",
    "def taxa_comp(tamanho_original, tamanho_comprimido):\n",
    "    tamanho_compressão = tamanho_original/tamanho_comprimido\n",
    "    print('Taxa de Compressão: ', tamanho_compressão)\n",
    "\n",
    "taxa_comp(tamanho_imagem_original, tamanho_imagem_comprimida_1)"
   ]
  },
  {
   "cell_type": "code",
   "execution_count": 24,
   "id": "de3a5746-a87b-4cc7-b6d9-046bf17ed16e",
   "metadata": {},
   "outputs": [
    {
     "name": "stdout",
     "output_type": "stream",
     "text": [
      "Img com nivel de compressão 80 - SNR: 10.457434960458889\n",
      "Img com nivel de compressão 10 - SNR: 6.6996182353310685\n"
     ]
    }
   ],
   "source": [
    "#taxa de compressão SNR\n",
    "def snr(imagem1, imagem2):\n",
    "    pot_sinal = np.mean(imagem1 ** 2)\n",
    "    pot_ruido = np.mean((imagem1 - imagem2) ** 2)\n",
    "    snr = 10 * np.log10(pot_sinal/pot_ruido)\n",
    "    return snr\n",
    "\n",
    "print(f\"Img com nivel de compressão 80 - SNR: {PSNR(x_img, y_img_1)}\")\n",
    "print(f\"Img com nivel de compressão 10 - SNR: {PSNR(x_img, y_img_2)}\")"
   ]
  },
  {
   "cell_type": "code",
   "execution_count": 23,
   "id": "c1d5abfd-9dca-4376-964f-7f1474f08f7e",
   "metadata": {},
   "outputs": [
    {
     "name": "stdout",
     "output_type": "stream",
     "text": [
      "Img com nivel de compressão 80 - PSNR: 10.457434960458889\n",
      "Img com nivel de compressão 10 - PSNR: 6.6996182353310685\n"
     ]
    }
   ],
   "source": [
    "#taxa de compressão PSNR\n",
    "\n",
    "def PSNR(imagem1, imagem2):\n",
    "    mse = np.mean((imagem1 - imagem2) **2)\n",
    "    max_pixels = 255.0\n",
    "    psnr = 10 * np.log10(max_pixels / mse)\n",
    "    return psnr\n",
    "\n",
    "print(f\"Img com nivel de compressão 80 - PSNR: {PSNR(x_img, y_img_1)}\")\n",
    "print(f\"Img com nivel de compressão 10 - PSNR: {PSNR(x_img, y_img_2)}\")"
   ]
  },
  {
   "cell_type": "markdown",
   "id": "0b0b3b81-bafb-4163-853f-c312820c5f41",
   "metadata": {
    "jp-MarkdownHeadingCollapsed": true
   },
   "source": [
    "# Exercício 3"
   ]
  },
  {
   "cell_type": "code",
   "execution_count": null,
   "id": "68228895-a843-4624-bd32-66efca80c734",
   "metadata": {},
   "outputs": [],
   "source": [
    "x_img_grey = cv2.cvtColor(x_img,cv2.COLOR_BGR2GRAY) \n",
    "cv2.imshow(\"GrayImage\",x_img_grey) \n",
    "cv2.imwrite(\"file3.bmp\",x_img_grey)\n",
    "print(x_img_grey.shape)\n",
    "print(x_img.shape)\n",
    "# o array da imagem orignal tem 3 dimensões e a imagem convertida para cinzento apresenta apenas duas dimensões\n",
    "cv2.waitKey(0)\n",
    "cv2.destroyAllWindows()"
   ]
  },
  {
   "cell_type": "markdown",
   "id": "340a7a0b-e986-4ec6-8230-8e1a307eeae8",
   "metadata": {},
   "source": [
    "# Exercício 4"
   ]
  },
  {
   "cell_type": "code",
   "execution_count": null,
   "id": "e48f5aa2-a147-4610-a8a3-d0aa477fadbd",
   "metadata": {},
   "outputs": [],
   "source": [
    "plt.hist(x_img_grey.ravel(),256,[0,256])"
   ]
  },
  {
   "cell_type": "markdown",
   "id": "ee9b0f88-b566-4403-876d-05542e24ef58",
   "metadata": {},
   "source": [
    "# Exercício 5"
   ]
  },
  {
   "cell_type": "code",
   "execution_count": null,
   "id": "10f2174c-7865-4174-ac33-3927b6da2a83",
   "metadata": {},
   "outputs": [],
   "source": [
    "y = x_img_grey > 128 \n",
    "cv2.imshow('BW', y*1.0)\n",
    "cv2.waitKey(0)\n",
    "cv2.destroyAllWindows()"
   ]
  },
  {
   "cell_type": "code",
   "execution_count": null,
   "id": "66153836-76a1-4948-82c9-dcfaa49c99c2",
   "metadata": {},
   "outputs": [],
   "source": []
  },
  {
   "cell_type": "code",
   "execution_count": null,
   "id": "0106b6a9-b8d1-4833-a3d2-4fcfe6bdfa59",
   "metadata": {},
   "outputs": [],
   "source": []
  }
 ],
 "metadata": {
  "kernelspec": {
   "display_name": "Python 3 (ipykernel)",
   "language": "python",
   "name": "python3"
  },
  "language_info": {
   "codemirror_mode": {
    "name": "ipython",
    "version": 3
   },
   "file_extension": ".py",
   "mimetype": "text/x-python",
   "name": "python",
   "nbconvert_exporter": "python",
   "pygments_lexer": "ipython3",
   "version": "3.13.2"
  }
 },
 "nbformat": 4,
 "nbformat_minor": 5
}
