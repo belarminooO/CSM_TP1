{
 "cells": [
  {
   "cell_type": "markdown",
   "id": "a6ca5afc-8398-4f7f-a069-2c613d6cd1e3",
   "metadata": {},
   "source": [
    "# ISEL - CSM \n",
    "## Semestre de Verão 2024/25\n",
    "# <br>\n",
    "###  <center> Trabalho Prático 1 - Codificação de Sinais Multimédia</center>\n",
    "# </br>\n",
    "\n",
    "\n",
    "Trabalho realizado por:\n",
    "* Guilherme Graça, numero <b> 51827 </b>\n",
    "* Martim Ramos, numero <b> 51736 </b>\n",
    "* Belarmino Sacate, numero <b> 52057 </b>\n",
    "\n",
    "<br> <center> Turma 42D </center> </br>\n",
    "<br> <center> Docente: Gonçalo Valadão </center> </br>"
   ]
  },
  {
   "cell_type": "code",
   "execution_count": 8,
   "id": "0adb0316-2285-4ec2-905a-9a9917e1ac40",
   "metadata": {},
   "outputs": [],
   "source": [
    "import cv2\n",
    "import numpy as np\n",
    "import matplotlib.pyplot as plt"
   ]
  },
  {
   "cell_type": "markdown",
   "id": "f0407d13-195d-422a-8f1e-f75b4f49396f",
   "metadata": {},
   "source": [
    "# Exercício 1"
   ]
  },
  {
   "cell_type": "code",
   "execution_count": 10,
   "id": "b8b68cea-254e-401e-8ced-a79a81cb1d1f",
   "metadata": {},
   "outputs": [
    {
     "name": "stdout",
     "output_type": "stream",
     "text": [
      "uint8\n",
      "(512, 512, 3)\n"
     ]
    }
   ],
   "source": [
    "x_img = cv2.imread(\"lena.tif\")\n",
    "cv2.imshow(\"OriginalImage\", x_img)\n",
    "\n",
    "\n",
    "print(x_img.dtype)\n",
    "#dtype mostra o tipo de dados dos pixes da img\n",
    "#OUTPUT: uint8\n",
    "#uint8 (unsigned 8 bit integer) é o padrão de imagens do opencv, ou seja pixeis de 8bits\n",
    "#logo cada bit, tem valores entre 0 e 255 porque 2**8 = 256\n",
    "\n",
    "print(x_img.shape)\n",
    "#shape retorna um tuplo com 3 elementos, (altura,largura,nr de canais de cor)\n",
    "#OUTPUT: (512, 512, 3)\n",
    "#Neste caso é uma imagem com 512 pixeis de altura, 512 pixeis de largura e 3 canis de cor\n",
    "\n",
    "type(x_img)\n",
    "\n",
    "cv2.waitKey(0)\n",
    "cv2.destroyAllWindows()"
   ]
  },
  {
   "cell_type": "markdown",
   "id": "e2012d59-d102-4bc4-af61-61c2d01e0621",
   "metadata": {},
   "source": [
    "# Exercício 2 "
   ]
  },
  {
   "cell_type": "code",
   "execution_count": 4,
   "id": "87c3ce03-30be-4dff-867e-64848bfbaa29",
   "metadata": {},
   "outputs": [
    {
     "name": "stdout",
     "output_type": "stream",
     "text": [
      "(512, 512, 3)\n",
      "(512, 512, 3)\n"
     ]
    }
   ],
   "source": [
    "cv2.imwrite(\"imagem_convertida_1.jpg\",x_img,(cv2.IMWRITE_JPEG_QUALITY, 80))\n",
    "y_img_1 = cv2.imread(\"imagem_convertida_1.jpg\")\n",
    "cv2.imshow(\"imagem_convertida_1.jpg\", y_img_1)\n",
    "print(y_img_1.shape)\n",
    "\n",
    "y_img_2 = cv2.imwrite(\"imagem_convertida_2.jpg\",x_img,(cv2.IMWRITE_JPEG_QUALITY, 10))\n",
    "y_img_2 = cv2.imread(\"imagem_convertida_2.jpg\")\n",
    "cv2.imshow(\"imagem_convertida_2.jpg\", y_img_2)\n",
    "print(y_img_2.shape)\n",
    "\n",
    "cv2.waitKey(0)\n",
    "cv2.destroyAllWindows()"
   ]
  },
  {
   "cell_type": "code",
   "execution_count": 5,
   "id": "aba5cd48-c955-4c93-9cdb-d360b759aa24",
   "metadata": {},
   "outputs": [
    {
     "name": "stdout",
     "output_type": "stream",
     "text": [
      "Tamanho da imagem original:  786572\n",
      "Tamanho da imagem comprimida (jpeg):  44124\n",
      "Tamanho da imagem comprimida (jpeg):  9566\n"
     ]
    }
   ],
   "source": [
    "#tamanhos das iamgens obtidas anteriormente\n",
    "\n",
    "import os\n",
    "\n",
    "imagem_original = \"lena.tif\"\n",
    "tamanho_imagem_original = os.path.getsize(imagem_original)\n",
    "print(\"Tamanho da imagem original: \", tamanho_imagem_original)\n",
    "\n",
    "imagem_jpeg_1 = \"imagem_convertida_1.jpg\"\n",
    "tamanho_imagem_comprimida_1 = os.path.getsize(imagem_jpeg_1)\n",
    "print(\"Tamanho da imagem comprimida (jpeg): \", tamanho_imagem_comprimida_1)\n",
    "\n",
    "imagem_jpeg_2 = \"imagem_convertida_2.jpg\"\n",
    "tamanho_imagem_comprimida_2 = os.path.getsize(imagem_jpeg_2)\n",
    "print(\"Tamanho da imagem comprimida (jpeg): \", tamanho_imagem_comprimida_2)"
   ]
  },
  {
   "cell_type": "code",
   "execution_count": 6,
   "id": "a633cb2b-4e50-46a6-bb06-5f6979f6b5ac",
   "metadata": {},
   "outputs": [
    {
     "name": "stdout",
     "output_type": "stream",
     "text": [
      "Taxa de Compressão:  17.82639833197353\n"
     ]
    }
   ],
   "source": [
    "#Taxa de Compressão\n",
    "def taxa_comp(tamanho_original, tamanho_comprimido):\n",
    "    tamanho_compressão = tamanho_original/tamanho_comprimido\n",
    "    print('Taxa de Compressão: ', tamanho_compressão)\n",
    "\n",
    "taxa_comp(tamanho_imagem_original, tamanho_imagem_comprimida_1)"
   ]
  },
  {
   "cell_type": "code",
   "execution_count": 7,
   "id": "de3a5746-a87b-4cc7-b6d9-046bf17ed16e",
   "metadata": {},
   "outputs": [
    {
     "name": "stdout",
     "output_type": "stream",
     "text": [
      "SNR calculada:  6.692607501972604\n",
      "SNR calculada:  2.934790776844785\n"
     ]
    }
   ],
   "source": [
    "#SNR\n",
    "def snr(imagem1, imagem2):\n",
    "    pot_sinal = np.mean(imagem1 ** 2)\n",
    "    pot_ruido = np.mean((imagem1 - imagem2) ** 2)\n",
    "    snr = 10 * np.log10(pot_sinal/pot_ruido)\n",
    "    print('SNR calculada: ', snr)\n",
    "\n",
    "snr(x_img, y_img_1)\n",
    "snr(x_img, y_img_2)"
   ]
  },
  {
   "cell_type": "code",
   "execution_count": 8,
   "id": "c1d5abfd-9dca-4376-964f-7f1474f08f7e",
   "metadata": {},
   "outputs": [
    {
     "name": "stdout",
     "output_type": "stream",
     "text": [
      "PSNR calculada:  10.457434960458889\n",
      "PSNR calculada:  6.6996182353310685\n"
     ]
    }
   ],
   "source": [
    "#PSNR\n",
    "\n",
    "def PSNR(imagem1, imagem2):\n",
    "    mse = np.mean((imagem1 - imagem2) **2)\n",
    "    max_pixels = 255.0\n",
    "    psnr = 10 * np.log10(max_pixels / mse)\n",
    "    print('PSNR calculada: ', psnr)\n",
    "\n",
    "PSNR(x_img, y_img_1)\n",
    "PSNR(x_img, y_img_2)"
   ]
  },
  {
   "cell_type": "markdown",
   "id": "0b0b3b81-bafb-4163-853f-c312820c5f41",
   "metadata": {},
   "source": [
    "# Exercício 3"
   ]
  },
  {
   "cell_type": "code",
   "execution_count": 9,
   "id": "68228895-a843-4624-bd32-66efca80c734",
   "metadata": {},
   "outputs": [
    {
     "name": "stdout",
     "output_type": "stream",
     "text": [
      "(512, 512)\n",
      "(512, 512, 3)\n"
     ]
    }
   ],
   "source": [
    "x_img_grey = cv2.cvtColor(x_img,cv2.COLOR_BGR2GRAY) \n",
    "cv2.imshow(\"GrayImage\",x_img_grey) \n",
    "cv2.imwrite(\"file3.bmp\",x_img_grey)\n",
    "print(x_img_grey.shape)\n",
    "print(x_img.shape)\n",
    "# o array da imagem orignal tem 3 dimensões e a imagem convertida para cinzento apresenta apenas duas dimensões\n",
    "cv2.waitKey(0)\n",
    "cv2.destroyAllWindows()"
   ]
  },
  {
   "cell_type": "markdown",
   "id": "340a7a0b-e986-4ec6-8230-8e1a307eeae8",
   "metadata": {},
   "source": [
    "# Exercício 4"
   ]
  },
  {
   "cell_type": "code",
   "execution_count": 10,
   "id": "e48f5aa2-a147-4610-a8a3-d0aa477fadbd",
   "metadata": {},
   "outputs": [
    {
     "data": {
      "text/plain": [
       "(array([0.000e+00, 0.000e+00, 0.000e+00, 0.000e+00, 0.000e+00, 0.000e+00,\n",
       "        0.000e+00, 0.000e+00, 0.000e+00, 0.000e+00, 0.000e+00, 0.000e+00,\n",
       "        0.000e+00, 0.000e+00, 0.000e+00, 0.000e+00, 0.000e+00, 0.000e+00,\n",
       "        0.000e+00, 0.000e+00, 0.000e+00, 0.000e+00, 0.000e+00, 0.000e+00,\n",
       "        0.000e+00, 1.000e+00, 6.000e+00, 2.000e+01, 2.900e+01, 5.900e+01,\n",
       "        9.700e+01, 1.370e+02, 1.810e+02, 2.200e+02, 3.010e+02, 4.210e+02,\n",
       "        5.000e+02, 6.120e+02, 7.600e+02, 9.400e+02, 1.062e+03, 1.254e+03,\n",
       "        1.443e+03, 1.646e+03, 1.761e+03, 1.882e+03, 1.998e+03, 2.092e+03,\n",
       "        2.020e+03, 2.105e+03, 2.086e+03, 2.029e+03, 1.979e+03, 1.808e+03,\n",
       "        1.731e+03, 1.668e+03, 1.578e+03, 1.469e+03, 1.278e+03, 1.236e+03,\n",
       "        1.220e+03, 1.003e+03, 9.300e+02, 9.760e+02, 8.800e+02, 8.900e+02,\n",
       "        7.910e+02, 7.970e+02, 7.710e+02, 7.800e+02, 8.520e+02, 8.190e+02,\n",
       "        8.320e+02, 7.850e+02, 8.790e+02, 9.090e+02, 8.680e+02, 8.540e+02,\n",
       "        9.470e+02, 9.730e+02, 9.050e+02, 9.130e+02, 8.670e+02, 9.350e+02,\n",
       "        9.320e+02, 9.670e+02, 1.008e+03, 1.016e+03, 1.063e+03, 1.134e+03,\n",
       "        1.120e+03, 1.190e+03, 1.218e+03, 1.325e+03, 1.399e+03, 1.538e+03,\n",
       "        1.621e+03, 1.806e+03, 1.871e+03, 2.086e+03, 1.894e+03, 1.933e+03,\n",
       "        1.956e+03, 1.836e+03, 1.761e+03, 1.729e+03, 1.612e+03, 1.504e+03,\n",
       "        1.435e+03, 1.366e+03, 1.362e+03, 1.344e+03, 1.345e+03, 1.451e+03,\n",
       "        1.359e+03, 1.355e+03, 1.384e+03, 1.448e+03, 1.568e+03, 1.572e+03,\n",
       "        1.604e+03, 1.776e+03, 1.817e+03, 1.894e+03, 2.029e+03, 2.140e+03,\n",
       "        2.304e+03, 2.321e+03, 2.369e+03, 2.521e+03, 2.306e+03, 2.304e+03,\n",
       "        2.252e+03, 2.078e+03, 1.992e+03, 1.822e+03, 1.933e+03, 1.903e+03,\n",
       "        2.025e+03, 2.136e+03, 2.260e+03, 2.304e+03, 2.327e+03, 2.453e+03,\n",
       "        2.459e+03, 2.408e+03, 2.236e+03, 2.316e+03, 2.287e+03, 2.174e+03,\n",
       "        2.282e+03, 2.316e+03, 2.391e+03, 2.592e+03, 2.691e+03, 2.740e+03,\n",
       "        2.705e+03, 2.552e+03, 2.414e+03, 2.261e+03, 2.041e+03, 1.853e+03,\n",
       "        1.779e+03, 1.616e+03, 1.474e+03, 1.425e+03, 1.352e+03, 1.234e+03,\n",
       "        1.253e+03, 1.196e+03, 1.170e+03, 1.208e+03, 1.342e+03, 1.263e+03,\n",
       "        1.233e+03, 1.158e+03, 1.186e+03, 1.224e+03, 1.086e+03, 9.430e+02,\n",
       "        9.040e+02, 8.220e+02, 7.860e+02, 6.890e+02, 6.090e+02, 6.300e+02,\n",
       "        6.430e+02, 6.790e+02, 6.340e+02, 6.640e+02, 7.390e+02, 7.950e+02,\n",
       "        8.300e+02, 9.410e+02, 9.050e+02, 9.760e+02, 9.200e+02, 9.100e+02,\n",
       "        8.430e+02, 8.220e+02, 8.680e+02, 9.030e+02, 8.340e+02, 8.860e+02,\n",
       "        9.090e+02, 9.690e+02, 9.760e+02, 1.066e+03, 1.042e+03, 1.068e+03,\n",
       "        9.570e+02, 9.810e+02, 9.550e+02, 8.660e+02, 6.970e+02, 5.440e+02,\n",
       "        4.900e+02, 3.940e+02, 3.810e+02, 2.840e+02, 2.300e+02, 2.340e+02,\n",
       "        1.940e+02, 1.880e+02, 1.260e+02, 7.700e+01, 7.400e+01, 5.900e+01,\n",
       "        5.100e+01, 2.200e+01, 1.900e+01, 9.000e+00, 7.000e+00, 6.000e+00,\n",
       "        8.000e+00, 1.000e+00, 0.000e+00, 0.000e+00, 1.000e+00, 0.000e+00,\n",
       "        0.000e+00, 0.000e+00, 2.000e+00, 0.000e+00, 1.000e+00, 1.000e+00,\n",
       "        0.000e+00, 0.000e+00, 0.000e+00, 0.000e+00, 0.000e+00, 0.000e+00,\n",
       "        0.000e+00, 0.000e+00, 0.000e+00, 0.000e+00]),\n",
       " array([  0.,   1.,   2.,   3.,   4.,   5.,   6.,   7.,   8.,   9.,  10.,\n",
       "         11.,  12.,  13.,  14.,  15.,  16.,  17.,  18.,  19.,  20.,  21.,\n",
       "         22.,  23.,  24.,  25.,  26.,  27.,  28.,  29.,  30.,  31.,  32.,\n",
       "         33.,  34.,  35.,  36.,  37.,  38.,  39.,  40.,  41.,  42.,  43.,\n",
       "         44.,  45.,  46.,  47.,  48.,  49.,  50.,  51.,  52.,  53.,  54.,\n",
       "         55.,  56.,  57.,  58.,  59.,  60.,  61.,  62.,  63.,  64.,  65.,\n",
       "         66.,  67.,  68.,  69.,  70.,  71.,  72.,  73.,  74.,  75.,  76.,\n",
       "         77.,  78.,  79.,  80.,  81.,  82.,  83.,  84.,  85.,  86.,  87.,\n",
       "         88.,  89.,  90.,  91.,  92.,  93.,  94.,  95.,  96.,  97.,  98.,\n",
       "         99., 100., 101., 102., 103., 104., 105., 106., 107., 108., 109.,\n",
       "        110., 111., 112., 113., 114., 115., 116., 117., 118., 119., 120.,\n",
       "        121., 122., 123., 124., 125., 126., 127., 128., 129., 130., 131.,\n",
       "        132., 133., 134., 135., 136., 137., 138., 139., 140., 141., 142.,\n",
       "        143., 144., 145., 146., 147., 148., 149., 150., 151., 152., 153.,\n",
       "        154., 155., 156., 157., 158., 159., 160., 161., 162., 163., 164.,\n",
       "        165., 166., 167., 168., 169., 170., 171., 172., 173., 174., 175.,\n",
       "        176., 177., 178., 179., 180., 181., 182., 183., 184., 185., 186.,\n",
       "        187., 188., 189., 190., 191., 192., 193., 194., 195., 196., 197.,\n",
       "        198., 199., 200., 201., 202., 203., 204., 205., 206., 207., 208.,\n",
       "        209., 210., 211., 212., 213., 214., 215., 216., 217., 218., 219.,\n",
       "        220., 221., 222., 223., 224., 225., 226., 227., 228., 229., 230.,\n",
       "        231., 232., 233., 234., 235., 236., 237., 238., 239., 240., 241.,\n",
       "        242., 243., 244., 245., 246., 247., 248., 249., 250., 251., 252.,\n",
       "        253., 254., 255., 256.]),\n",
       " <BarContainer object of 256 artists>)"
      ]
     },
     "execution_count": 10,
     "metadata": {},
     "output_type": "execute_result"
    },
    {
     "data": {
      "image/png": "[encoded data removed]",
      "text/plain": [
       "<Figure size 640x480 with 1 Axes>"
      ]
     },
     "metadata": {},
     "output_type": "display_data"
    }
   ],
   "source": [
    "plt.hist(x_img_grey.ravel(),256,[0,256])"
   ]
  },
  {
   "cell_type": "markdown",
   "id": "ee9b0f88-b566-4403-876d-05542e24ef58",
   "metadata": {},
   "source": [
    "# Exercício 5"
   ]
  },
  {
   "cell_type": "code",
   "execution_count": 24,
   "id": "10f2174c-7865-4174-ac33-3927b6da2a83",
   "metadata": {},
   "outputs": [],
   "source": [
    "y = x_img_grey > 128 \n",
    "cv2.imshow('BW', y*1.0)\n",
    "cv2.waitKey(0)\n",
    "cv2.destroyAllWindows()"
   ]
  },
  {
   "cell_type": "code",
   "execution_count": null,
   "id": "66153836-76a1-4948-82c9-dcfaa49c99c2",
   "metadata": {},
   "outputs": [],
   "source": []
  },
  {
   "cell_type": "code",
   "execution_count": null,
   "id": "0106b6a9-b8d1-4833-a3d2-4fcfe6bdfa59",
   "metadata": {},
   "outputs": [],
   "source": []
  }
 ],
 "metadata": {
  "kernelspec": {
   "display_name": "Python 3 (ipykernel)",
   "language": "python",
   "name": "python3"
  },
  "language_info": {
   "codemirror_mode": {
    "name": "ipython",
    "version": 3
   },
   "file_extension": ".py",
   "mimetype": "text/x-python",
   "name": "python",
   "nbconvert_exporter": "python",
   "pygments_lexer": "ipython3",
   "version": "3.13.2"
  }
 },
 "nbformat": 4,
 "nbformat_minor": 5
}
